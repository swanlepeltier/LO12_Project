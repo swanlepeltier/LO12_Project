{
 "cells": [
  {
   "cell_type": "markdown",
   "id": "730408b9",
   "metadata": {},
   "source": [
    "# LO12 P25\n",
    "\n",
    "### [Données]\n",
    "\n",
    "Bonjour, je vous présente ici mon projet LO12 sur [données].\n",
    "\n",
    "Veuillez trouver ci-dessous les instructions pour exécuter le projet.\n",
    "\n",
    "### [Installation]\n",
    "\n",
    "1. Installer les dépendances nécessaires en utilisant pip. Assurez-vous d'avoir Python installé sur votre machine.\n",
    "2. Ouvrez un terminal et naviguez jusqu'au répertoire du projet.\n",
    "3. Exécutez la commande suivante pour installer les dépendances :\n",
    "\n",
    "```\n",
    "pip install -r requirements.txt\n",
    "```"
   ]
  }
 ],
 "metadata": {
  "language_info": {
   "name": "python"
  }
 },
 "nbformat": 4,
 "nbformat_minor": 5
}
